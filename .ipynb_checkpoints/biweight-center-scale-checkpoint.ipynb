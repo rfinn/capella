{
 "metadata": {
  "name": "",
  "signature": "sha256:6c0b6ebbaa12c5351228445d91a628164feadc9b83ccd8f4c50860283f8a9914"
 },
 "nbformat": 3,
 "nbformat_minor": 0,
 "worksheets": [
  {
   "cells": [
    {
     "cell_type": "markdown",
     "metadata": {},
     "source": [
      "\n",
      "    Written by Rose A. Finn, updated on January 5, 2015\n",
      "\n",
      "    PURPOSE: \n",
      "      This program calculates the biweight center and scale for the LCS clusters\n",
      "      using existing programs from the astropy.stats package.  Errors on the center\n",
      "      and scale are calculating using bootstrap resampling (1000 samples is the default).\n",
      "\n",
      "      \n",
      "    CALLING SEQUENCE\n",
      "\n",
      "       from within ipython\n",
      "\n",
      "       % run  ~/svnRepository/pythonCode/LCSbiweight.py\n",
      "       getbiweightall()\n",
      "\n",
      "       to see the results plotted with velocity histogram for one cluster\n",
      "\n",
      "       mkw11.plotvhist()\n",
      "\n",
      "       to see a multipanel plot for all clusters, type\n",
      "\n",
      "       plotall()\n",
      "\n",
      "    INPUT PARAMETERS\n",
      "      none\n",
      "      \n",
      "    OUTPUT PARAMETERS\n",
      "      none\n",
      "    \n",
      "    EXAMPLES\n",
      "      see calling sequence\n",
      "    \n",
      "    PROCEDURE\n",
      "\n",
      "      The NSA catalog is cut to include only those galaxies with velocities within\n",
      "      4000 km/s of the central velocity (from the literature) and within a projected\n",
      "      radius of 1 degree.  The biweight location and scale are calculated, and the\n",
      "      location is used as the median, and the biweight location and scale are recalculated.\n",
      "      This is repeated until the scale changes by less than 1 km/s.  This typically requires\n",
      "      2 iterations.\n",
      "\n",
      "    REQUIRED PYTHON MODULES\n",
      "      numpy\n",
      "      pylab\n",
      "      astropy\n",
      "      scipy\n"
     ]
    },
    {
     "cell_type": "code",
     "collapsed": false,
     "input": [
      "from matplotlib import pyplot as plt\n",
      "import numpy as np\n",
      "import scipy.stats\n",
      "from astropy.stats import biweight_location, biweight_midvariance, sigma_clip, bootstrap\n",
      "from astropy import cosmology\n",
      "from astropy.io import fits\n",
      "import glob\n",
      "\n",
      "%matplotlib inline"
     ],
     "language": "python",
     "metadata": {},
     "outputs": [],
     "prompt_number": 1
    },
    {
     "cell_type": "code",
     "collapsed": false,
     "input": [
      "def centralbi(x, M=None):\n",
      "    x=np.array(x,'f')\n",
      "    if M is None:\n",
      "        M=np.median(x)\n",
      "    \n",
      "    MAD=np.median(abs(x-M))\n",
      "    ui=((x-M)/(6*MAD))\n",
      "    top=np.sum((x-M)*((1-ui**2)**2))\n",
      "    bottom=np.sum((1-ui**2)**2)\n",
      "    \n",
      "    \n",
      "    cbi=M + (top/bottom)\n",
      "    #print self.clustername\n",
      "    # print(cbi)\n",
      "    \n",
      "    #finds the biweight scale\n",
      "    n=len(x)\n",
      "    usbi=((x-M)/(9*MAD))\n",
      "    upper= np.sum(((x-M)**2)*((1-usbi**2)**4))\n",
      "    lower=np.sum((1-usbi**2)*(1-5*usbi**2))\n",
      "    sbi=np.sqrt(n)*((sqrt(upper))/(abs(lower)))\n",
      "    return cbi,sbi\n",
      "def getbiweight(z):\n",
      "    scale_cut=3.\n",
      "    biweightscale=biweight_midvariance(z)\n",
      "    biweightlocation=biweight_location(z)\n",
      "\n",
      "    flag=np.abs(z-biweightlocation)/biweightscale < scale_cut\n",
      "    #flag=np.ones(len(z),'bool')\n",
      "    repeatflag=1\n",
      "    nloop=0\n",
      "    #print biweightlocation, biweightscale\n",
      "    oldbiweightscale=biweightscale\n",
      "    while repeatflag:\n",
      "        newdata=z[flag]\n",
      "        biweightscale=biweight_midvariance(newdata, M=biweightlocation)\n",
      "        biweightlocation=biweight_location(newdata, M=biweightlocation)\n",
      "        oldflag = flag\n",
      "        #flag=abs(z-biweightlocation)/biweightscale < scale_cut\n",
      "        nloop += 1\n",
      "        #print nloop, biweightlocation, biweightscale, len(newdata), sum(flag)\n",
      "        #if sum(flag == oldflag) == len(flag): \n",
      "        #    repeatflag=0\n",
      "        #    print 'nloop = ', nloop\n",
      "        if np.abs(biweightscale - oldbiweightscale) < 1.: \n",
      "            repeatflag=0\n",
      "            #print 'nloop = ', nloop\n",
      "        if nloop > 5:\n",
      "            repeatflag = 0\n",
      "        oldbiweightscale=biweightscale\n",
      "        #print nloop, biweightlocation, biweightscale\n",
      "    #flag=abs(z-biweightlocation)/biweightscale < 4.\n",
      "    #biweightscale=biweight_midvariance(z[flag],M=biweightlocation)\n",
      "    return biweightlocation, biweightscale\n",
      "\n"
     ],
     "language": "python",
     "metadata": {},
     "outputs": [],
     "prompt_number": 2
    },
    {
     "cell_type": "code",
     "collapsed": false,
     "input": [
      "# read in sample.dat - has cluster, RA, Dec, recession velocity\n",
      "names=[]\n",
      "RA=[]\n",
      "DEC=[]\n",
      "vr=[]\n",
      "infile1=open('sample.dat','r')\n",
      "for line in infile1:\n",
      "    #print line\n",
      "    t=line.split()\n",
      "    names.append(t[0])\n",
      "    RA.append(t[1])\n",
      "    DEC.append(t[2])\n",
      "    vr.append(t[3])\n",
      "infile1.close()\n",
      "vr=np.array(vr,'f')\n",
      "RA=np.array(RA,'f')\n",
      "DEC=np.array(DEC,'f')\n",
      "names=np.array(names)\n",
      "print names"
     ],
     "language": "python",
     "metadata": {},
     "outputs": [
      {
       "output_type": "stream",
       "stream": "stdout",
       "text": [
        "['NRGb004' 'NRGs027' 'NRGs038' 'NRGs076' 'NRGs090' 'NRGs110' 'NRGs117'\n",
        " 'NRGb128' 'NRGb155' 'NRGb177' 'NRGb226' 'NRGb244' 'NRGb247' 'NRGs317'\n",
        " 'Abell2063']\n"
       ]
      }
     ],
     "prompt_number": 3
    },
    {
     "cell_type": "code",
     "collapsed": false,
     "input": [
      "# read in fits AGC table\n",
      "infiles=glob.glob('*_NSA.fits')\n",
      "outfile=open('biweight_center_scale.dat','w')\n",
      "for f in infiles:\n",
      "    clustername=f.split('_')[0]\n",
      "    clustervel=vr[names == clustername]\n",
      "    clusterRA=RA[names == clustername]\n",
      "    clusterDEC=DEC[names == clustername]\n",
      "    dat = fits.getdata(f)\n",
      "    # cut velocities to within +/- 4000 km/s\n",
      "    keepflag = (np.abs(dat.ZDIST*3.e5 - clustervel) < 4000.) & (np.sqrt((dat.RA-clusterRA)**2+(dat.DEC-clusterDEC)**2) < .75)\n",
      "    # calculate biweight center and scale\n",
      "    a,b=getbiweight(dat.ZDIST[keepflag]*3.e5)\n",
      "    print clustername,\": center vel = %5.1f, scale = %5.1f, RA = %12.8f, DEC = %12.8f\"%(a,b,clusterRA,clusterDEC)\n",
      "    outfile.write(clustername+\" %5.1f %5.1f %12.8f %12.8f\\n\"%(a,b,clusterRA,clusterDEC))\n",
      "outfile.close()\n",
      "\n",
      "#print infiles\n",
      "#dat.columns"
     ],
     "language": "python",
     "metadata": {},
     "outputs": [
      {
       "output_type": "stream",
       "stream": "stdout",
       "text": [
        "Abell2063 : center vel = 10408.3, scale = 890.9, RA = 230.75779724, DEC =   8.63939953\n",
        "NRGb004"
       ]
      },
      {
       "output_type": "stream",
       "stream": "stdout",
       "text": [
        " : center vel = 8408.0, scale = 358.4, RA = 129.54791260, DEC =  25.11666679\n",
        "NRGb128"
       ]
      },
      {
       "output_type": "stream",
       "stream": "stdout",
       "text": [
        " : center vel = 7601.3, scale = 490.3, RA = 170.58999634, DEC =  24.32805634\n",
        "NRGb155"
       ]
      },
      {
       "output_type": "stream",
       "stream": "stdout",
       "text": [
        " : center vel = 6421.4, scale = 756.4, RA = 176.18583679, DEC =  19.69972229\n",
        "NRGb177"
       ]
      },
      {
       "output_type": "stream",
       "stream": "stdout",
       "text": [
        " : center vel = 6981.4, scale = 413.3, RA = 181.07417297, DEC =  20.25499916\n",
        "NRGb226"
       ]
      },
      {
       "output_type": "stream",
       "stream": "stdout",
       "text": [
        " : center vel = 7004.1, scale = 1048.3, RA = 194.94708252, DEC =  27.92833328\n",
        "NRGb244"
       ]
      },
      {
       "output_type": "stream",
       "stream": "stdout",
       "text": [
        " : center vel = 6919.8, scale = 287.0, RA = 201.04499817, DEC =  13.97972202\n",
        "NRGb247"
       ]
      },
      {
       "output_type": "stream",
       "stream": "stdout",
       "text": [
        " : center vel = 6794.6, scale = 374.9, RA = 202.38000488, DEC =  11.78861141\n",
        "NRGs027"
       ]
      },
      {
       "output_type": "stream",
       "stream": "stdout",
       "text": [
        " : center vel = 8544.7, scale = 417.9, RA = 139.02583313, DEC =  17.60222244\n",
        "NRGs038"
       ]
      },
      {
       "output_type": "stream",
       "stream": "stdout",
       "text": [
        " : center vel = 9342.5, scale = 857.3, RA = 140.89582825, DEC =  22.33277702\n",
        "NRGs076"
       ]
      },
      {
       "output_type": "stream",
       "stream": "stdout",
       "text": [
        " : center vel = 8825.3, scale = 476.0, RA = 151.67416382, DEC =  14.43027782\n",
        "NRGs090"
       ]
      },
      {
       "output_type": "stream",
       "stream": "stdout",
       "text": [
        " : center vel = 9737.7, scale = 306.5, RA = 158.25874329, DEC =  12.09472179\n",
        "NRGs110"
       ]
      },
      {
       "output_type": "stream",
       "stream": "stdout",
       "text": [
        " : center vel = 10444.4, scale = 725.6, RA = 165.21208191, DEC =  10.55472183\n",
        "NRGs117"
       ]
      },
      {
       "output_type": "stream",
       "stream": "stdout",
       "text": [
        " : center vel = 9780.0, scale = 742.8, RA = 167.63082886, DEC =  28.72750092\n",
        "NRGs317"
       ]
      },
      {
       "output_type": "stream",
       "stream": "stdout",
       "text": [
        " : center vel = 8864.0, scale = 314.3, RA = 221.79083252, DEC =  13.70638847\n"
       ]
      }
     ],
     "prompt_number": 13
    },
    {
     "cell_type": "code",
     "collapsed": false,
     "input": [],
     "language": "python",
     "metadata": {},
     "outputs": [],
     "prompt_number": 12
    },
    {
     "cell_type": "code",
     "collapsed": false,
     "input": [],
     "language": "python",
     "metadata": {},
     "outputs": []
    }
   ],
   "metadata": {}
  }
 ]
}