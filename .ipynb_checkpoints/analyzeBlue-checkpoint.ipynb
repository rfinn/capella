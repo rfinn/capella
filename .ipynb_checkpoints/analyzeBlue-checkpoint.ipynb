{
 "metadata": {
  "name": "",
  "signature": "sha256:e966be09aa76b946604bb16b4f12d841b47077d5ba01bb2f4d70653319cc9135"
 },
 "nbformat": 3,
 "nbformat_minor": 0,
 "worksheets": [
  {
   "cells": [
    {
     "cell_type": "code",
     "collapsed": false,
     "input": [
      "from matplotlib import pyplot as plt\n",
      "import numpy as np\n",
      "#from numpy.lib.recfunctions import append_fields\n",
      "from astropy.io import fits\n",
      "import glob\n",
      "%matplotlib inline"
     ],
     "language": "python",
     "metadata": {},
     "outputs": []
    },
    {
     "cell_type": "code",
     "collapsed": false,
     "input": [
      "class Cluster:\n",
      "    def __init__(self,prefix):\n",
      "        "
     ],
     "language": "python",
     "metadata": {},
     "outputs": []
    }
   ],
   "metadata": {}
  }
 ]
}