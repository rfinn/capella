{
 "metadata": {
  "name": "",
  "signature": "sha256:5a91b5d14fa7b14920a4c644ec841ca259bd10a24fccd518d05c108e29d81ee0"
 },
 "nbformat": 3,
 "nbformat_minor": 0,
 "worksheets": [
  {
   "cells": [
    {
     "cell_type": "code",
     "collapsed": false,
     "input": [
      "import numpy as np\n",
      "from matplotlib import pyplot as plt\n",
      "from astropy.io import fits\n",
      "from GetR200 import getr200\n",
      "%matplotlib inline\n"
     ],
     "language": "python",
     "metadata": {},
     "outputs": [],
     "prompt_number": 4
    },
    {
     "cell_type": "code",
     "collapsed": false,
     "input": [
      "cr200=getr200(6000.,1000)"
     ],
     "language": "python",
     "metadata": {},
     "outputs": [
      {
       "metadata": {},
       "output_type": "pyout",
       "prompt_number": 5,
       "text": [
        "1.3719494962579861"
       ]
      }
     ],
     "prompt_number": 5
    },
    {
     "cell_type": "code",
     "collapsed": false,
     "input": [
      "# read in fits table\n",
      "infile='NRGs110_AGC.fits'\n",
      "cdat=fits.getdata(infile)\n",
      "cdat.columns"
     ],
     "language": "python",
     "metadata": {},
     "outputs": [
      {
       "metadata": {},
       "output_type": "pyout",
       "prompt_number": 5,
       "text": [
        "ColDefs(\n",
        "    name = 'AGCNUMBER'; format = 'J'\n",
        "    name = 'WHICH'; format = '1A'\n",
        "    name = 'RA'; format = 'E'; unit = 'deg'\n",
        "    name = 'DEC'; format = 'E'; unit = 'deg'\n",
        "    name = 'A100'; format = 'J'; unit = 'arcsec'\n",
        "    name = 'B100'; format = 'J'; unit = 'arcsec'\n",
        "    name = 'MAG10'; format = 'J'; unit = 'mag'\n",
        "    name = 'INCCODE'; format = 'J'\n",
        "    name = 'POSANG'; format = 'J'\n",
        "    name = 'DESCRIPTION'; format = '8A'\n",
        "    name = 'BSTEINTYPE'; format = 'J'\n",
        "    name = 'VOPT'; format = 'J'; unit = 'km/s'\n",
        "    name = 'VERR'; format = 'J'; unit = 'km/s'\n",
        "    name = 'EXTRC3'; format = 'J'\n",
        "    name = 'EXTDIRBE'; format = 'J'\n",
        "    name = 'VSOURCE'; format = 'J'\n",
        "    name = 'NGCIC'; format = '8A'\n",
        "    name = 'FLUX100'; format = 'J'\n",
        "    name = 'RMS100'; format = 'J'\n",
        "    name = 'V21'; format = 'J'\n",
        "    name = 'WIDTH'; format = 'J'\n",
        "    name = 'WIDTHERR'; format = 'J'\n",
        "    name = 'TELCODE'; format = '1A'\n",
        "    name = 'DETCODE'; format = 'J'\n",
        "    name = 'HISOURCE'; format = 'I'\n",
        "    name = 'STATUSCODE'; format = 'I'\n",
        "    name = 'SNRATIO'; format = 'I'\n",
        "    name = 'IBANDQUAL'; format = 'I'\n",
        "    name = 'IBANDSRC'; format = 'I'\n",
        "    name = 'IRASFLAG'; format = 'I'\n",
        "    name = 'ICLUSTER'; format = 'I'\n",
        "    name = 'HIDATA'; format = 'I'\n",
        "    name = 'IPOSITION'; format = 'I'\n",
        "    name = 'IPALOMAR'; format = 'I'\n",
        "    name = 'RC3FLAG'; format = 'I'\n",
        ")"
       ]
      }
     ],
     "prompt_number": 5
    },
    {
     "cell_type": "code",
     "collapsed": false,
     "input": [
      "# measure center velocity and velocity dispersion\n",
      "\n",
      "# define the center for the cluster\n",
      "centerRA=164.4037 # from NED\n",
      "centerDec=9.6156 # from NED\n",
      "centerVel = 10470 # from NED\n",
      "sigma=700. # just estimating for now\n",
      "\n",
      "deltaR = np.sqrt((centerRA - cdat.RA)**2+(centerDec-cdat.DEC)**2)\n",
      "deltaV = (cdat.VOPT - centerVel)/sigma\n",
      "HIflag = cdat.FLUX100 > 0\n",
      "plt.figure()\n",
      "plt.plot(deltaR/cr200,deltaV,'ko')\n",
      "plt.plot(deltaR[HIflag],deltaV[HIflag],'bs',markersize=10,mec='b',mfc='None')\n",
      "plt.axis([0,3,-3,3])"
     ],
     "language": "python",
     "metadata": {},
     "outputs": [
      {
       "metadata": {},
       "output_type": "pyout",
       "prompt_number": 14,
       "text": [
        "[0, 3, -3, 3]"
       ]
      },
      {
       "metadata": {},
       "output_type": "display_data",
       "png": "[encoded data removed]",
       "text": [
        "<matplotlib.figure.Figure at 0x109ab5210>"
       ]
      }
     ],
     "prompt_number": 14
    },
    {
     "cell_type": "code",
     "collapsed": false,
     "input": [
      "cdat.FLUX100[HIflag]"
     ],
     "language": "python",
     "metadata": {},
     "outputs": [
      {
       "metadata": {},
       "output_type": "pyout",
       "prompt_number": 18,
       "text": [
        "array([ 144,   92,  122,   81,   85,   41,   71,  230,  114,  483,  161,\n",
        "        256,   89,  110,   17,  109,  180, 2815,   52,   53,   95,  104,\n",
        "        101,   91,  212,  402,   76,  461,  130,   98,  266,   70,   77,\n",
        "        324,   98,   80,  110,  268,  142,   79,   98,  346,   37,  238,\n",
        "         68,   24,  103,   44,   52,   24,  217,  126,   64,  105,  184,\n",
        "        175,  109,  209,   58,  142,  154,   60,  117,   62,   44,  153,\n",
        "        142,   75,  207,   48,  121,   35,   61,   68,  134,  119,   83,\n",
        "        134,   63,  120,   60,  121,  172,   98,   60,  107,  108,   74,\n",
        "         47,   61,  455,   94,  195,  118,   23,  118,  154,  131,  193,\n",
        "        240,  183,  349,   97,   28,  136,   46,  227,  103,   51,   76,\n",
        "         12,  380,  142,  152,  402,  147,   73,  285,  189,   48,  178,\n",
        "         78,  180,  141,   74,   92,  136,   57,  194,  646,   68,  329,\n",
        "         93,   51,   68,   63,   49,  121,   44,   77,  314,  129,  198,\n",
        "        130,   51,  133,  134,   84,   48,  147,   40,   79,   64,   72,\n",
        "        134,   57,   60, 1146,   88,   81,  233,  124,   50,  129,   89,\n",
        "         56,   86,  214,  211,   78,   53,  107,  167,   80,   71,   78,\n",
        "         73,  101,  272,  157,   96,   81,   66,  155,  858,  100,  302,\n",
        "        578,  236,   44,  365,   41,   69,   34,   55], dtype=int32)"
       ]
      }
     ],
     "prompt_number": 18
    },
    {
     "cell_type": "code",
     "collapsed": false,
     "input": [],
     "language": "python",
     "metadata": {},
     "outputs": []
    }
   ],
   "metadata": {}
  }
 ]
}