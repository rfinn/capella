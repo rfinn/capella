{
 "metadata": {
  "name": "",
  "signature": "sha256:85fc268c86386d6933c108176339a406fb3af7316881299a4395953d2e6bb7dc"
 },
 "nbformat": 3,
 "nbformat_minor": 0,
 "worksheets": [
  {
   "cells": [
    {
     "cell_type": "code",
     "collapsed": false,
     "input": [
      "\n",
      "from astropy.cosmology import FlatLambdaCDM\n",
      "import numpy as np\n",
      "cosmo = FlatLambdaCDM(H0=70, Om0=0.3)\n",
      "OmL=.7\n",
      "Om0=.3\n",
      "H0=70.\n",
      "def getr200(recessionvel,sigma):\n",
      "    redshift=recessionvel/3.e5\n",
      "    r200=2.02*(sigma)/1000./np.sqrt(OmL+Om0*(1.+redshift)**3)*H0/70. # in Mpc\n",
      "    r200deg=r200/cosmo.angular_diameter_distance(redshift)*180./np.pi\n",
      "    return r200deg.value"
     ],
     "language": "python",
     "metadata": {},
     "outputs": [],
     "prompt_number": 27
    },
    {
     "cell_type": "code",
     "collapsed": false,
     "input": [
      "t=getr200(6000.,1000)"
     ],
     "language": "python",
     "metadata": {},
     "outputs": [],
     "prompt_number": 28
    },
    {
     "cell_type": "code",
     "collapsed": false,
     "input": [],
     "language": "python",
     "metadata": {},
     "outputs": [
      {
       "output_type": "stream",
       "stream": "stdout",
       "text": [
        "1.37194949626\n"
       ]
      }
     ],
     "prompt_number": 29
    },
    {
     "cell_type": "code",
     "collapsed": false,
     "input": [],
     "language": "python",
     "metadata": {},
     "outputs": [
      {
       "latex": [
        "$380.40983 \\; \\mathrm{Mpc}$"
       ],
       "metadata": {},
       "output_type": "pyout",
       "prompt_number": 30,
       "text": [
        "<Quantity 380.4098324709673 Mpc>"
       ]
      }
     ],
     "prompt_number": 30
    },
    {
     "cell_type": "code",
     "collapsed": false,
     "input": [],
     "language": "python",
     "metadata": {},
     "outputs": []
    }
   ],
   "metadata": {}
  }
 ]
}