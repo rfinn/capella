{
 "metadata": {
  "name": "",
  "signature": "sha256:a8dbc27c0ac63cdc2e1c777728e93931ff977a69993ac98ac64e5182ba26275c"
 },
 "nbformat": 3,
 "nbformat_minor": 0,
 "worksheets": [
  {
   "cells": [
    {
     "cell_type": "markdown",
     "metadata": {},
     "source": [
      "This program calculates R200 in degrees given the central velocity and velocity dispersion."
     ]
    },
    {
     "cell_type": "code",
     "collapsed": false,
     "input": [
      "from astropy.cosmology import FlatLambdaCDM\n",
      "import numpy as np\n",
      "cosmo = FlatLambdaCDM(H0=70, Om0=0.3)\n",
      "OmL=.7\n",
      "Om0=.3\n",
      "H0=70.\n",
      "def getr200(recessionvel,sigma):\n",
      "    redshift=recessionvel/3.e5\n",
      "    r200=2.02*(sigma)/1000./np.sqrt(OmL+Om0*(1.+redshift)**3)*H0/70. # in Mpc\n",
      "    r200deg=r200/cosmo.angular_diameter_distance(redshift)*180./np.pi\n",
      "    return r200deg.value"
     ],
     "language": "python",
     "metadata": {},
     "outputs": [],
     "prompt_number": 27
    }
   ],
   "metadata": {}
  }
 ]
}