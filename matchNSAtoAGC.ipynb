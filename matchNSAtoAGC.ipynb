{
 "metadata": {
  "name": "",
  "signature": "sha256:77f4001a8d6805a57c9eddd182bf91d81145d7a6cb1d60237bbbe3ad3fc2bc0b"
 },
 "nbformat": 3,
 "nbformat_minor": 0,
 "worksheets": [
  {
   "cells": [
    {
     "cell_type": "markdown",
     "metadata": {},
     "source": [
      "The goal of this program is to match the NSA galaxies to the AGC catalogs.\n",
      "\n",
      "Ideally, there will be a one-to-one match, but of course, nothing is ideal...\n",
      "\n",
      "So what do we do with galaxies that don't have an NSA match?  We will need to \n",
      "get their SDSS colors another way so that we can properly separate them into \n",
      "blue and red, and so we can estimate their stellar masses."
     ]
    },
    {
     "cell_type": "code",
     "collapsed": false,
     "input": [
      "from matplotlib import pyplot as plt\n",
      "import numpy as np\n",
      "from astropy.io import fits\n",
      "import glob\n",
      "%matplotlib inline"
     ],
     "language": "python",
     "metadata": {},
     "outputs": [],
     "prompt_number": 23
    },
    {
     "cell_type": "code",
     "collapsed": false,
     "input": [
      "def findnearest(x1,y1,x2,y2,delta):#use where command\n",
      "    matchflag=1\n",
      "    nmatch=0\n",
      "    d=np.sqrt((x1-x2)**2 + (y1-y2)**2)#x2 and y2 are arrays\n",
      "    index=np.arange(len(d))\n",
      "    t=index[d<delta]\n",
      "    matches=t\n",
      "    if len(matches) > 0:\n",
      "        nmatch=len(matches)\n",
      "        if nmatch > 1:\n",
      "            imatch=index[(d == min(d[t]))]\n",
      "        else:\n",
      "            imatch=matches[0]\n",
      "    else:\n",
      "        imatch = 0\n",
      "        matchflag = 0\n",
      "\n",
      "    return imatch, matchflag,nmatch"
     ],
     "language": "python",
     "metadata": {},
     "outputs": [],
     "prompt_number": 15
    },
    {
     "cell_type": "code",
     "collapsed": false,
     "input": [
      "def compare_samples(x1,y1,x2,y2):\n",
      "    plt.figure()\n",
      "    plt.plot(x1,y1,'bo')\n",
      "    plt.plot(x2,y2,'ks')"
     ],
     "language": "python",
     "metadata": {},
     "outputs": [],
     "prompt_number": 16
    },
    {
     "cell_type": "code",
     "collapsed": false,
     "input": [
      "# match radiuss = 3 arcsec\n",
      "matchradius=3./3600 # convert to degrees\n",
      "\n",
      "    \n",
      "clusterfiles=glob.glob('NRG*AGC.fits')\n",
      "for cfile in clusterfiles:\n",
      "    agcdat=fits.getdata(cfile)\n",
      "    nsafile=cfile.split('_')[0]+'_NSA.fits'\n",
      "    print nsafile\n",
      "    nsadat=fits.getdata(nsafile)\n",
      "    imatch=np.zeros(len(agcdat.RA),'i')\n",
      "    matchflag=np.zeros(len(agcdat.RA),'bool')\n",
      "    nmatch=np.zeros(len(agcdat.RA),'i')\n",
      "    for i in range(len(agcdat.RA)):\n",
      "        imatch[i],matchflag[i],nmatch[i] = findnearest(agcdat.RA[i],agcdat.DEC[i],nsadat.RA,nsadat.DEC,matchradius)\n",
      "        \n",
      "    "
     ],
     "language": "python",
     "metadata": {},
     "outputs": [
      {
       "output_type": "stream",
       "stream": "stdout",
       "text": [
        "NRGb004_NSA.fits\n",
        "NRGb128_NSA.fits"
       ]
      },
      {
       "output_type": "stream",
       "stream": "stdout",
       "text": [
        "\n",
        "NRGb155_NSA.fits"
       ]
      },
      {
       "output_type": "stream",
       "stream": "stdout",
       "text": [
        "\n",
        "NRGb177_NSA.fits"
       ]
      },
      {
       "output_type": "stream",
       "stream": "stdout",
       "text": [
        "\n",
        "NRGb226_NSA.fits"
       ]
      },
      {
       "output_type": "stream",
       "stream": "stdout",
       "text": [
        "\n",
        "NRGb244_NSA.fits"
       ]
      },
      {
       "output_type": "stream",
       "stream": "stdout",
       "text": [
        "\n",
        "NRGb247_NSA.fits"
       ]
      },
      {
       "output_type": "stream",
       "stream": "stdout",
       "text": [
        "\n",
        "NRGs027_NSA.fits"
       ]
      },
      {
       "output_type": "stream",
       "stream": "stdout",
       "text": [
        "\n",
        "NRGs038_NSA.fits"
       ]
      },
      {
       "output_type": "stream",
       "stream": "stdout",
       "text": [
        "\n",
        "NRGs076_NSA.fits"
       ]
      },
      {
       "output_type": "stream",
       "stream": "stdout",
       "text": [
        "\n",
        "NRGs090_NSA.fits"
       ]
      },
      {
       "output_type": "stream",
       "stream": "stdout",
       "text": [
        "\n",
        "NRGs110_NSA.fits"
       ]
      },
      {
       "output_type": "stream",
       "stream": "stdout",
       "text": [
        "\n",
        "NRGs117_NSA.fits"
       ]
      },
      {
       "output_type": "stream",
       "stream": "stdout",
       "text": [
        "\n",
        "NRGs317_NSA.fits"
       ]
      },
      {
       "output_type": "stream",
       "stream": "stdout",
       "text": [
        "\n",
        "NRGs341_NSA.fits"
       ]
      },
      {
       "output_type": "stream",
       "stream": "stdout",
       "text": [
        "\n"
       ]
      }
     ],
     "prompt_number": 17
    },
    {
     "cell_type": "code",
     "collapsed": false,
     "input": [
      "print len(matchflag), sum(matchflag)"
     ],
     "language": "python",
     "metadata": {},
     "outputs": [
      {
       "output_type": "stream",
       "stream": "stdout",
       "text": [
        "1011 861\n"
       ]
      }
     ],
     "prompt_number": 20
    },
    {
     "cell_type": "code",
     "collapsed": false,
     "input": [
      "plt.figure()\n",
      "plt.hist(agcdat.VOPT)\n",
      "plt.hist(nsadat.ZDIST*3.e5)"
     ],
     "language": "python",
     "metadata": {},
     "outputs": [
      {
       "metadata": {},
       "output_type": "pyout",
       "prompt_number": 24,
       "text": [
        "(array([   1.,    2.,   45.,  255.,  174.,   55.,   39.,  206.,  150.,   43.]),\n",
        " array([  7192.85644531,   7970.04521484,   8747.23398437,   9524.42275391,\n",
        "         10301.61152344,  11078.80029297,  11855.9890625 ,  12633.17783203,\n",
        "         13410.36660156,  14187.55537109,  14964.74414062]),\n",
        " <a list of 10 Patch objects>)"
       ]
      },
      {
       "metadata": {},
       "output_type": "display_data",
       "png": "[encoded data removed]",
       "text": [
        "<matplotlib.figure.Figure at 0x109de4b50>"
       ]
      }
     ],
     "prompt_number": 24
    },
    {
     "cell_type": "code",
     "collapsed": false,
     "input": [],
     "language": "python",
     "metadata": {},
     "outputs": []
    }
   ],
   "metadata": {}
  }
 ]
}