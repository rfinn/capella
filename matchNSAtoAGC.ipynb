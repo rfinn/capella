{
 "metadata": {
  "name": "",
  "signature": "sha256:80770268c78231b46576df472ee6538a8817420541739c3878e1cbbf9fff3f27"
 },
 "nbformat": 3,
 "nbformat_minor": 0,
 "worksheets": [
  {
   "cells": [
    {
     "cell_type": "markdown",
     "metadata": {},
     "source": [
      "The goal of this program is to match the NSA galaxies to the AGC catalogs.\n",
      "\n",
      "Ideally, there will be a one-to-one match, but of course, nothing is ideal...\n",
      "\n",
      "So what do we do with galaxies that don't have an NSA match?  We will need to \n",
      "get their SDSS colors another way so that we can properly separate them into \n",
      "blue and red, and so we can estimate their stellar masses."
     ]
    },
    {
     "cell_type": "code",
     "collapsed": false,
     "input": [
      "def findnearest(x1,y1,x2,y2,delta):#use where command\n",
      "    matchflag=1\n",
      "    nmatch=0\n",
      "    d=sqrt((x1-x2)**2 + (y1-y2)**2)#x2 and y2 are arrays\n",
      "    index=arange(len(d))\n",
      "    t=index[d<delta]\n",
      "    matches=t\n",
      "    if len(matches) > 0:\n",
      "        nmatch=len(matches)\n",
      "        if nmatch > 1:\n",
      "            imatch=index[(d == min(d[t]))]\n",
      "        else:\n",
      "            imatch=matches[0]\n",
      "    else:\n",
      "        imatch = 0\n",
      "        matchflag = 0\n",
      "\n",
      "    return imatch, matchflag,nmatch"
     ],
     "language": "python",
     "metadata": {},
     "outputs": [],
     "prompt_number": 2
    },
    {
     "cell_type": "code",
     "collapsed": false,
     "input": [],
     "language": "python",
     "metadata": {},
     "outputs": []
    }
   ],
   "metadata": {}
  }
 ]
}