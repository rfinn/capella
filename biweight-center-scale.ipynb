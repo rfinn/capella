{
 "metadata": {
  "name": "",
  "signature": "sha256:8e568874a89cc16375f4b8c9b3dec0a7eb319f9b0366adbc5f305f6b07fbe688"
 },
 "nbformat": 3,
 "nbformat_minor": 0,
 "worksheets": [
  {
   "cells": [
    {
     "cell_type": "markdown",
     "metadata": {},
     "source": [
      "\n",
      "    Written by Rose A. Finn, updated on January 5, 2015\n",
      "\n",
      "    PURPOSE: \n",
      "      This program calculates the biweight center and scale for the LCS clusters\n",
      "      using existing programs from the astropy.stats package.  Errors on the center\n",
      "      and scale are calculating using bootstrap resampling (1000 samples is the default).\n",
      "\n",
      "      \n",
      "    CALLING SEQUENCE\n",
      "\n",
      "       from within ipython\n",
      "\n",
      "       % run  ~/svnRepository/pythonCode/LCSbiweight.py\n",
      "       getbiweightall()\n",
      "\n",
      "       to see the results plotted with velocity histogram for one cluster\n",
      "\n",
      "       mkw11.plotvhist()\n",
      "\n",
      "       to see a multipanel plot for all clusters, type\n",
      "\n",
      "       plotall()\n",
      "\n",
      "    INPUT PARAMETERS\n",
      "      none\n",
      "      \n",
      "    OUTPUT PARAMETERS\n",
      "      none\n",
      "    \n",
      "    EXAMPLES\n",
      "      see calling sequence\n",
      "    \n",
      "    PROCEDURE\n",
      "\n",
      "      The NSA catalog is cut to include only those galaxies with velocities within\n",
      "      4000 km/s of the central velocity (from the literature) and within a projected\n",
      "      radius of 1 degree.  The biweight location and scale are calculated, and the\n",
      "      location is used as the median, and the biweight location and scale are recalculated.\n",
      "      This is repeated until the scale changes by less than 1 km/s.  This typically requires\n",
      "      2 iterations.\n",
      "\n",
      "    REQUIRED PYTHON MODULES\n",
      "      numpy\n",
      "      pylab\n",
      "      astropy\n",
      "      scipy\n"
     ]
    },
    {
     "cell_type": "code",
     "collapsed": false,
     "input": [
      "from matplotlib import pyplot as plt\n",
      "import numpy as np\n",
      "import scipy.stats\n",
      "from astropy.stats import biweight_location, biweight_midvariance, sigma_clip, bootstrap\n",
      "from astropy import cosmology\n",
      "from astropy.io import fits\n",
      "import glob\n",
      "\n",
      "%matplotlib inline"
     ],
     "language": "python",
     "metadata": {},
     "outputs": [],
     "prompt_number": 10
    },
    {
     "cell_type": "code",
     "collapsed": false,
     "input": [
      "def centralbi(x, M=None):\n",
      "    x=np.array(x,'f')\n",
      "    if M is None:\n",
      "        M=np.median(x)\n",
      "    \n",
      "    MAD=np.median(abs(x-M))\n",
      "    ui=((x-M)/(6*MAD))\n",
      "    top=np.sum((x-M)*((1-ui**2)**2))\n",
      "    bottom=np.sum((1-ui**2)**2)\n",
      "    \n",
      "    \n",
      "    cbi=M + (top/bottom)\n",
      "    #print self.clustername\n",
      "    # print(cbi)\n",
      "    \n",
      "    #finds the biweight scale\n",
      "    n=len(x)\n",
      "    usbi=((x-M)/(9*MAD))\n",
      "    upper= np.sum(((x-M)**2)*((1-usbi**2)**4))\n",
      "    lower=np.sum((1-usbi**2)*(1-5*usbi**2))\n",
      "    sbi=np.sqrt(n)*((sqrt(upper))/(abs(lower)))\n",
      "    return cbi,sbi\n",
      "def getbiweight(z):\n",
      "    scale_cut=3.\n",
      "    biweightscale=biweight_midvariance(z)\n",
      "    biweightlocation=biweight_location(z)\n",
      "\n",
      "    flag=np.abs(z-biweightlocation)/biweightscale < scale_cut\n",
      "    #flag=np.ones(len(z),'bool')\n",
      "    repeatflag=1\n",
      "    nloop=0\n",
      "    #print biweightlocation, biweightscale\n",
      "    oldbiweightscale=biweightscale\n",
      "    while repeatflag:\n",
      "        newdata=z[flag]\n",
      "        biweightscale=biweight_midvariance(newdata, M=biweightlocation)\n",
      "        biweightlocation=biweight_location(newdata, M=biweightlocation)\n",
      "        oldflag = flag\n",
      "        #flag=abs(z-biweightlocation)/biweightscale < scale_cut\n",
      "        nloop += 1\n",
      "        #print nloop, biweightlocation, biweightscale, len(newdata), sum(flag)\n",
      "        #if sum(flag == oldflag) == len(flag): \n",
      "        #    repeatflag=0\n",
      "        #    print 'nloop = ', nloop\n",
      "        if np.abs(biweightscale - oldbiweightscale) < 1.: \n",
      "            repeatflag=0\n",
      "            #print 'nloop = ', nloop\n",
      "        if nloop > 5:\n",
      "            repeatflag = 0\n",
      "        oldbiweightscale=biweightscale\n",
      "        #print nloop, biweightlocation, biweightscale\n",
      "    #flag=abs(z-biweightlocation)/biweightscale < 4.\n",
      "    #biweightscale=biweight_midvariance(z[flag],M=biweightlocation)\n",
      "    return biweightlocation, biweightscale\n",
      "\n"
     ],
     "language": "python",
     "metadata": {},
     "outputs": [],
     "prompt_number": 31
    },
    {
     "cell_type": "code",
     "collapsed": false,
     "input": [
      "# read in sample.dat - has cluster, RA, Dec, recession velocity\n",
      "names=[]\n",
      "RA=[]\n",
      "DEC=[]\n",
      "vr=[]\n",
      "infile1=open('sample.dat','r')\n",
      "for line in infile1:\n",
      "    #print line\n",
      "    t=line.split()\n",
      "    names.append(t[0])\n",
      "    RA.append(t[1])\n",
      "    DEC.append(t[2])\n",
      "    vr.append(t[3])\n",
      "infile1.close()\n",
      "vr=np.array(vr,'f')\n",
      "RA=np.array(RA,'f')\n",
      "DEC=np.array(DEC,'f')\n",
      "names=np.array(names)\n",
      "print names"
     ],
     "language": "python",
     "metadata": {},
     "outputs": [
      {
       "output_type": "stream",
       "stream": "stdout",
       "text": [
        "['NRGb004' 'NRGs027' 'NRGs038' 'NRGs076' 'NRGs090' 'NRGs110' 'NRGs117'\n",
        " 'NRGb128' 'NRGb155' 'NRGb177' 'NRGb226' 'NRGb244' 'NRGb247' 'NRGs317'\n",
        " 'NRGs341']\n"
       ]
      }
     ],
     "prompt_number": 32
    },
    {
     "cell_type": "code",
     "collapsed": false,
     "input": [
      "# read in fits AGC table\n",
      "infiles=glob.glob('*_AGC.fits')\n",
      "for f in infiles:\n",
      "    clustername=f.split('_')[0]\n",
      "    clustervel=vr[names == clustername]\n",
      "    dat = fits.getdata(f)\n",
      "    # cut velocities to within +/- 4000 km/s\n",
      "    keepflag = np.abs(dat.VOPT - clustervel) < 4000.\n",
      "    # calculate biweight center and scale\n",
      "    a,b=getbiweight(dat.VOPT[keepflag])\n",
      "    print clustername,\": center vel = %5.1f, scale = %5.1f\"%(a,b)\n",
      "    \n",
      "\n",
      "#print infiles\n",
      "#dat.columns"
     ],
     "language": "python",
     "metadata": {},
     "outputs": [
      {
       "output_type": "stream",
       "stream": "stdout",
       "text": [
        "NRGb004 : center vel = 7654.6, scale = 2288.3\n",
        "NRGb128 : center vel = 8126.6, scale = 1703.3\n",
        "NRGb155"
       ]
      },
      {
       "output_type": "stream",
       "stream": "stdout",
       "text": [
        " : center vel = 6879.7, scale = 1378.2\n",
        "NRGb177 : center vel = 7048.1, scale = 463.0\n",
        "NRGb226"
       ]
      },
      {
       "output_type": "stream",
       "stream": "stdout",
       "text": [
        " : center vel = 6990.8, scale = 958.0\n",
        "NRGb244 : center vel = 7133.6, scale = 518.8\n",
        "NRGb247"
       ]
      },
      {
       "output_type": "stream",
       "stream": "stdout",
       "text": [
        " : center vel = 7011.0, scale = 371.1\n",
        "NRGs027 : center vel = 8649.2, scale = 377.7\n",
        "NRGs038"
       ]
      },
      {
       "output_type": "stream",
       "stream": "stdout",
       "text": [
        " : center vel = 9285.7, scale = 1321.6\n",
        "NRGs076 : center vel = 9441.9, scale = 1885.3\n",
        "NRGs090"
       ]
      },
      {
       "output_type": "stream",
       "stream": "stdout",
       "text": [
        " : center vel = 9735.3, scale = 376.3\n",
        "NRGs110 : center vel = 10846.0, scale = 2054.0\n",
        "NRGs117"
       ]
      },
      {
       "output_type": "stream",
       "stream": "stdout",
       "text": [
        " : center vel = 10189.4, scale = 1873.3\n",
        "NRGs317 : center vel = 9076.6, scale = 1073.5\n",
        "NRGs341"
       ]
      },
      {
       "output_type": "stream",
       "stream": "stdout",
       "text": [
        " : center vel = 11640.6, scale = 1750.7\n"
       ]
      }
     ],
     "prompt_number": 42
    },
    {
     "cell_type": "code",
     "collapsed": false,
     "input": [],
     "language": "python",
     "metadata": {},
     "outputs": []
    }
   ],
   "metadata": {}
  }
 ]
}